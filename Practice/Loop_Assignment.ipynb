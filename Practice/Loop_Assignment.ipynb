{
  "nbformat": 4,
  "nbformat_minor": 0,
  "metadata": {
    "colab": {
      "name": "Functions.ipynb",
      "provenance": [],
      "collapsed_sections": []
    },
    "kernelspec": {
      "name": "python3",
      "display_name": "Python 3"
    }
  },
  "cells": [
    {
      "cell_type": "markdown",
      "metadata": {
        "id": "acjG_njgQr0K"
      },
      "source": [
        ""
      ]
    },
    {
      "cell_type": "code",
      "metadata": {
        "id": "0Ey1x3vOpUIn"
      },
      "source": [
        "# Assignments"
      ],
      "execution_count": null,
      "outputs": []
    },
    {
      "cell_type": "code",
      "metadata": {
        "id": "E0WmimExpVx8"
      },
      "source": [
        "#W A P which takes one number from the user and checks whether it is an even or odd number?, If it even then prints number is \n",
        "#even number else prints that number is odd number."
      ],
      "execution_count": null,
      "outputs": []
    },
    {
      "cell_type": "code",
      "metadata": {
        "id": "7xLwIOW0pV0x",
        "outputId": "37b218b0-65fa-42da-c3fc-ffc27fce7a85",
        "colab": {
          "base_uri": "https://localhost:8080/"
        }
      },
      "source": [
        "a = int(input('Enter a Numnber'))\n",
        "if a%2 == 0:\n",
        "  print('Number is Even')\n",
        "else:\n",
        "  print('Number is Odd')"
      ],
      "execution_count": null,
      "outputs": [
        {
          "output_type": "stream",
          "text": [
            "Enter a Numnber24\n",
            "Number is Even\n"
          ],
          "name": "stdout"
        }
      ]
    },
    {
      "cell_type": "code",
      "metadata": {
        "id": "8IrnpQP4pV4C",
        "outputId": "b0f4e303-84dc-42ab-efce-1a0b60b68858",
        "colab": {
          "base_uri": "https://localhost:8080/"
        }
      },
      "source": [
        "#W A P which takes two numbers from the user and prints below output:-\n",
        "#     1. num1 is greater than num2 if num1 is greater than num2\n",
        "#     2. num1 is smaller than num2 if num1 is smaller than num2\n",
        "#     3. num1 is equal to num2 if num1 and num2 are equal\n",
        "\n",
        "#Note:- 1. Do this problem using if - else \n",
        "#       2. Do this using ternary operator\n",
        "a = int(input('Enter a Numnber 1'))\n",
        "b = int(input('Enter a Numnber 2'))\n",
        "c = int(input('Enter a Numnber 3'))\n",
        "\n",
        "'num1 is greater than num2' if a>b else 'num1 is smaller than num2' if a<b else 'num1 and num2 are equal'\n",
        "\n",
        "if a>b :\n",
        "  print('num1 is greater than num2')\n",
        "elif a<b:\n",
        "  print('num1 is smaller than num2')\n",
        "elif a==b:\n",
        "  print('num1 and num2 are equal')\n",
        "\n"
      ],
      "execution_count": 5,
      "outputs": [
        {
          "output_type": "stream",
          "text": [
            "Enter a Numnber 110\n",
            "Enter a Numnber 210\n",
            "Enter a Numnber 330\n",
            "num1 and num2 are equal\n"
          ],
          "name": "stdout"
        }
      ]
    },
    {
      "cell_type": "code",
      "metadata": {
        "id": "9iPbNv8TpV7r"
      },
      "source": [
        "#W A P which takes three numbers from the user and prints below output:-\n",
        "#     1. num1 is greater than num2 and num3 if num1 is greater than num2 and num3\n",
        "#     2. num2 is greater than num1 and num3 if num2 is greater than num1 and num3\n",
        "#     3. num3 is greater than num1 and num2 if num3 is greater than num1 and num2\n",
        "\n",
        "#Note:- 1. Do this problem using if - elif - else \n",
        "#       2. Do this using ternary operator\n",
        "\n",
        "# a = a if a>b else b\n"
      ],
      "execution_count": null,
      "outputs": []
    },
    {
      "cell_type": "code",
      "metadata": {
        "id": "EwV4-nCtpV_D",
        "outputId": "a46e9303-9e19-4413-c674-362608af7207",
        "colab": {
          "base_uri": "https://localhost:8080/",
          "height": 86
        }
      },
      "source": [
        "a = int(input('Enter a Numnber 1'))\n",
        "b = int(input('Enter a Numnber 2'))\n",
        "c = int(input('Enter a Numnber 3'))\n",
        "\n",
        "'num1 is greater than num2 and num3' if a>b and a>c else 'num2 is greater than num1 and num3' if b>a and a>c else 'num3 is greater than num1 and num2'\n"
      ],
      "execution_count": 3,
      "outputs": [
        {
          "output_type": "stream",
          "text": [
            "Enter a Numnber 120\n",
            "Enter a Numnber 240\n",
            "Enter a Numnber 310\n"
          ],
          "name": "stdout"
        },
        {
          "output_type": "execute_result",
          "data": {
            "application/vnd.google.colaboratory.intrinsic+json": {
              "type": "string"
            },
            "text/plain": [
              "'num2 is greater than num1 and num3'"
            ]
          },
          "metadata": {
            "tags": []
          },
          "execution_count": 3
        }
      ]
    },
    {
      "cell_type": "code",
      "metadata": {
        "id": "XtC8q28jpWB0",
        "outputId": "07c24981-794d-4228-8e10-514b9ba02419",
        "colab": {
          "base_uri": "https://localhost:8080/"
        }
      },
      "source": [
        "#Write a Python program to find the length of the my_str using loop:-\n",
        "\n",
        "#Input:- 'Write a Python program to find the length of the my_str'\n",
        "#Output:- 55\n",
        "count = 0\n",
        "b = 'Write a Python program to find the length of the my_str'\n",
        "for i in b:\n",
        "  if i == 0:\n",
        "    continue\n",
        "  else:\n",
        "    count += 1\n",
        "print(count)\n",
        "\n",
        "\n",
        "\n",
        "\n"
      ],
      "execution_count": 1,
      "outputs": [
        {
          "output_type": "stream",
          "text": [
            "55\n"
          ],
          "name": "stdout"
        }
      ]
    },
    {
      "cell_type": "code",
      "metadata": {
        "id": "VG0lzP1cpWFE",
        "outputId": "8826238b-15fd-4a5f-e464-4d21635e7ead",
        "colab": {
          "base_uri": "https://localhost:8080/"
        }
      },
      "source": [
        "#Write a python program to find below output using loop:-\n",
        "\n",
        "#Input:- 'peter piper picked a peck of pickled peppers.'\n",
        "#Output:- 'peppers pickled of peck a picked piper peter'\n",
        "count = 0\n",
        "my_str = ''\n",
        "my_str2 = ''\n",
        "my_str1 = ''\n",
        "my_str3 = ''\n",
        "b = 'peter piper picked a peck of pickled peppers.'\n",
        "for i in b:\n",
        "  if i == 0:\n",
        "    continue\n",
        "  else:\n",
        "    count += 1\n",
        "\n",
        "count = count - 2\n",
        "print(count)\n",
        "for j in range(count, -1, -1):\n",
        "  my_str = my_str + b[j]\n",
        "  if b[j] == ' ':\n",
        "   for k in range(len(my_str) - 1,-1,-1):\n",
        "    my_str1 = my_str1 + my_str[k]\n",
        "   my_str = ''\n",
        "for l in range(len(my_str) - 1,-1,-1):\n",
        "  my_str2 = my_str2 + my_str[l]\n",
        "my_str3 = my_str3 + my_str1 + ' ' + my_str2\n",
        "\n",
        "print(my_str3)\n",
        "  \n"
      ],
      "execution_count": null,
      "outputs": [
        {
          "output_type": "stream",
          "text": [
            "43\n",
            " peppers pickled of peck a picked piper peter\n"
          ],
          "name": "stdout"
        }
      ]
    },
    {
      "cell_type": "code",
      "metadata": {
        "id": "f5r6Kvv_pWHw",
        "outputId": "4edee6cc-8166-4452-a2e5-7b6ce893990a",
        "colab": {
          "base_uri": "https://localhost:8080/"
        }
      },
      "source": [
        "#Write a Python program to find the total number of times letter 'p' is appeared in the below string using loop:-\n",
        "    \n",
        "#Input:- 'peter piper picked a peck of pickled peppers.\\n'\n",
        "#Output:- 9\n",
        "\n",
        "count = 0\n",
        "my_str = 'peter piper picked a peck of pickled peppers.\\n'\n",
        "for i in my_str:\n",
        "  if i == 'p':\n",
        "    print(count, end='\\n')\n",
        "  count += 1\n"
      ],
      "execution_count": 9,
      "outputs": [
        {
          "output_type": "stream",
          "text": [
            "0\n",
            "6\n",
            "8\n",
            "12\n",
            "21\n",
            "29\n",
            "37\n",
            "39\n",
            "40\n"
          ],
          "name": "stdout"
        }
      ]
    },
    {
      "cell_type": "code",
      "metadata": {
        "id": "_XzTxwSqp3Ki",
        "outputId": "df9a71e6-d742-4193-9f6b-463ec3152472",
        "colab": {
          "base_uri": "https://localhost:8080/"
        }
      },
      "source": [
        "#Write a python program to find below output using loop:-\n",
        "\n",
        "#Input:- 'peter piper picked a peck of pickled peppers.'\n",
        "#Output:- ['peter', 'piper', 'picked', 'a', 'peck', 'of', 'pickled', 'peppers']\n",
        "\n",
        "my_str = 'peter piper picked a peck of pickled peppers.'\n",
        "word = ''\n",
        "lst = []\n",
        "for i in my_str:\n",
        "  if i == ' ' or i == '.':\n",
        "    lst.append(word)\n",
        "    word = ''\n",
        "  else:\n",
        "    word = word + i\n",
        "\n",
        "print(lst)"
      ],
      "execution_count": 14,
      "outputs": [
        {
          "output_type": "stream",
          "text": [
            "['peter', 'piper', 'picked', 'a', 'peck', 'of', 'pickled', 'peppers']\n"
          ],
          "name": "stdout"
        }
      ]
    },
    {
      "cell_type": "code",
      "metadata": {
        "id": "Akky6LDGAsaV",
        "outputId": "14338d23-3000-4912-faf9-4004f52c543a",
        "colab": {
          "base_uri": "https://localhost:8080/"
        }
      },
      "source": [
        "#Write a python program to find below output using loop:-\n",
        "\n",
        "#Input:- 'peter piper picked a peck of pickled peppers.'\n",
        "#Output:- '.sreppep delkcip fo kcep a dekcip repip retep'\n",
        "\n",
        "my_str = 'peter piper picked a peck of pickled peppers.'\n",
        "word = ''\n",
        "output = ''\n",
        "lst = []\n",
        "lngth = len(my_str)\n",
        "lngth = lngth - 1\n",
        "for i in range(lngth,-1,-1):\n",
        "  if my_str[i] == ' ':\n",
        "    output = output + ' ' + word\n",
        "    word = ''\n",
        "  else:\n",
        "    word = word + my_str[i]\n",
        "\n",
        "output = output + ' ' + word\n",
        "print(output)\n",
        "\n"
      ],
      "execution_count": 24,
      "outputs": [
        {
          "output_type": "stream",
          "text": [
            " .sreppep delkcip fo kcep a dekcip repip retep\n"
          ],
          "name": "stdout"
        }
      ]
    },
    {
      "cell_type": "code",
      "metadata": {
        "id": "lHEWffCZF-Ar",
        "outputId": "e894f3e1-6282-47ba-9a13-bb26790e4bf8",
        "colab": {
          "base_uri": "https://localhost:8080/"
        }
      },
      "source": [
        "#Write a python program to find below output using loop:-\n",
        "\n",
        "#Input:- 'peter piper picked a peck of pickled peppers.'\n",
        "#Output:- 'retep repip dekcip a kcep fo delkcip sreppep'\n",
        "\n",
        "my_str = 'peter piper picked a peck of pickled peppers.'\n",
        "word = ''\n",
        "output = ''\n",
        "strrev = ''\n",
        "for i in my_str:\n",
        "  if i == ' ' or i == '.':\n",
        "    ln = len(word)\n",
        "    ln = ln - 1\n",
        "    for i in range(ln,-1,-1):\n",
        "      strrev = strrev + word[i]\n",
        "    output = output + ' ' + strrev\n",
        "    word = ''\n",
        "    strrev = ''\n",
        "  else:\n",
        "    word = word + i\n",
        "\n",
        "print(output)\n"
      ],
      "execution_count": 30,
      "outputs": [
        {
          "output_type": "stream",
          "text": [
            " retep repip dekcip a kcep fo delkcip sreppep\n"
          ],
          "name": "stdout"
        }
      ]
    },
    {
      "cell_type": "code",
      "metadata": {
        "id": "8OrExbXWHp88",
        "outputId": "23609b61-dc45-4f5f-8bdd-67ce2f9c2dae",
        "colab": {
          "base_uri": "https://localhost:8080/"
        }
      },
      "source": [
        "#Write a python program to find below output using loop:-\n",
        "\n",
        "#Input:- 'peter piper picked a peck of pickled peppers.'\n",
        "#Output:- 'Peter Piper Picked A Peck Of Pickled Peppers'\n",
        "\n",
        "my_str = 'peter piper picked a peck of pickled peppers.'\n",
        "word = ''\n",
        "output = ''\n",
        "for i in my_str:\n",
        "  if i == ' ' or i == '.':\n",
        "    output = output + ' ' + word\n",
        "    word = ''\n",
        "  else:\n",
        "    if i == 'p':\n",
        "      i = 'P'\n",
        "    word = word + i\n",
        "\n",
        "print(output)"
      ],
      "execution_count": 33,
      "outputs": [
        {
          "output_type": "stream",
          "text": [
            " Peter PiPer Picked a Peck of Pickled PePPers\n"
          ],
          "name": "stdout"
        }
      ]
    },
    {
      "cell_type": "code",
      "metadata": {
        "id": "Qvi1JifWI99u",
        "outputId": "f9775316-8698-46f3-fb00-40db71cf6db2",
        "colab": {
          "base_uri": "https://localhost:8080/"
        }
      },
      "source": [
        "#Write a python program to find below output using loop:-\n",
        "\n",
        "#Input:- 'Peter Piper Picked A Peck Of Pickled Peppers.'\n",
        "#Output:- 'Peter piper picked a peck of pickled peppers'\n",
        "\n",
        "my_str = 'Peter Piper Picked A Peck Of Pickled Peppers.'\n",
        "word = ''\n",
        "output = ''\n",
        "count = 0\n",
        "for i in my_str:\n",
        "  if i == ' ' or i == '.':\n",
        "    output = output + ' ' + word\n",
        "    word = ''\n",
        "  else:\n",
        "    if ( i == 'P' and count != 0 ):\n",
        "      i = 'p'\n",
        "    elif ( i == 'A' and count != 0 ):\n",
        "      i = 'a'\n",
        "    elif ( i == 'O' and count != 0 ):\n",
        "      i = 'o'\n",
        "    count += 1\n",
        "    word = word + i\n",
        "\n",
        "print(output)\n"
      ],
      "execution_count": 36,
      "outputs": [
        {
          "output_type": "stream",
          "text": [
            " Peter piper picked a peck of pickled peppers\n"
          ],
          "name": "stdout"
        }
      ]
    },
    {
      "cell_type": "code",
      "metadata": {
        "id": "EnkNAgT8LG0i",
        "outputId": "368aca47-7e68-4389-f63f-36bc89d65102",
        "colab": {
          "base_uri": "https://localhost:8080/"
        }
      },
      "source": [
        "#Write a python program to implement index method using loop. If sub_str is found in my_str then it will print the index\n",
        "# of first occurrence of first character of matching string in my_str:-\n",
        "\n",
        "#Input:- my_str = 'Peter Piper Picked A Peck Of Pickled Peppers.', sub_str = 'Pickl'\n",
        "#Output:- 29\n",
        "\n",
        "my_str = 'Peter Piper Picked A Peck Of Pickled Peppers.'\n",
        "sub_str = 'Pickl'\n",
        "word = ''\n",
        "count = 0\n",
        "for i in my_str:\n",
        "  if i == ' ' or i == '.':\n",
        "    word = ''\n",
        "  else:\n",
        "    word = word + i\n",
        "    if word == sub_str:\n",
        "      count += 1\n",
        "      break\n",
        "  count += 1\n",
        "\n",
        "count = count - len(sub_str)\n",
        "print(count)"
      ],
      "execution_count": 40,
      "outputs": [
        {
          "output_type": "stream",
          "text": [
            "29\n"
          ],
          "name": "stdout"
        }
      ]
    },
    {
      "cell_type": "code",
      "metadata": {
        "id": "nOSZ3u_sNxLO",
        "outputId": "8b3ef042-3575-4499-f542-ce4c0c57a2d1",
        "colab": {
          "base_uri": "https://localhost:8080/"
        }
      },
      "source": [
        "#Write a python program to implement replace method using loop. If sub_str is found in my_str then it will replace the first \n",
        "#occurrence of sub_str with new_str else it will will print sub_str not found:-\n",
        "\n",
        "#Input:- my_str = 'Peter Piper Picked A Peck Of Pickled Peppers.', sub_str = 'Peck', new_str = 'Pack'\n",
        "#Output:- 'Peter Piper Picked A Pack Of Pickled Peppers.'\n",
        "\n",
        "my_str = 'Peter Piper Picked A Peck Of Pickled Peppers.'\n",
        "sub_str = 'Peck'\n",
        "new_str = 'Pack'\n",
        "word = ''\n",
        "output = ''\n",
        "for i in my_str:\n",
        "  if i == ' ':\n",
        "    if word == sub_str:\n",
        "      word = new_str\n",
        "    output = output + ' ' + word\n",
        "    word = ''\n",
        "  else:\n",
        "    word = word + i\n",
        "    if word == sub_str:\n",
        "      word = new_str\n",
        "\n",
        "output = output + ' ' + word\n",
        "print(output)"
      ],
      "execution_count": 44,
      "outputs": [
        {
          "output_type": "stream",
          "text": [
            " Peter Piper Picked A Pack Of Pickled Peppers.\n"
          ],
          "name": "stdout"
        }
      ]
    },
    {
      "cell_type": "code",
      "metadata": {
        "id": "QQZSExmlOm94",
        "outputId": "2609b31b-4931-408c-8e59-a377d7b0ef5b",
        "colab": {
          "base_uri": "https://localhost:8080/"
        }
      },
      "source": [
        "#Write a python program to find below output (implements rjust and ljust) using loop:-\n",
        "\n",
        "#Input:- 'Peter Piper Picked A Peck Of Pickled Peppers.', sub_str = 'Peck', \n",
        "#Output:- '*********************Peck********************'\n",
        "           \n",
        "\n",
        "my_str = 'Peter Piper Picked A Peck Of Pickled Peppers.'\n",
        "sub_str = 'Peck'\n",
        "new_str = 'Pack'\n",
        "word = ''\n",
        "output = ''\n",
        "for i in my_str:\n",
        "  if i == ' ' or i == '.':\n",
        "    if word == sub_str:\n",
        "      output = output + '*' + word\n",
        "    else:\n",
        "      word = '*' * ( len(word) + 1 )  \n",
        "      output = output + word\n",
        "    word = ''\n",
        "  else:\n",
        "    word = word + i\n",
        "\n",
        "if word == sub_str:\n",
        "  output = output + '*' + word\n",
        "else:\n",
        "  word = '*' * len(word)  \n",
        "  output = output + word\n",
        " \n",
        "print(output)\n"
      ],
      "execution_count": 51,
      "outputs": [
        {
          "output_type": "stream",
          "text": [
            "**********************Peck*******************\n"
          ],
          "name": "stdout"
        }
      ]
    },
    {
      "cell_type": "code",
      "metadata": {
        "id": "QOBg8HQtRPyQ",
        "outputId": "a994a9a1-c64e-4d5d-fd8d-e069b198f90b",
        "colab": {
          "base_uri": "https://localhost:8080/"
        }
      },
      "source": [
        "#Write a python program to find below output using loop:-\n",
        "\n",
        "#Input:- 'This is Python class', sep = ' is', \n",
        "#Output:- ['This', 'is', 'Python class']\n",
        "\n",
        "my_str = 'This is Python class'\n",
        "word = ''\n",
        "output = ''\n",
        "is_found = False\n",
        "lst = []\n",
        "for i in my_str:\n",
        "  if ( i == ' ' or i == '.' ) and word != 'is':\n",
        "    if is_found != True:\n",
        "      lst.append(word)\n",
        "    else:\n",
        "      output = output + ' ' + word\n",
        "    word = ''     \n",
        "  elif ( i == ' ' or i == '.' ) and word == 'is':\n",
        "    is_found = True\n",
        "    lst.append('is')   \n",
        "    word = ''   \n",
        "  else:\n",
        "    word = word + i\n",
        "\n",
        "output = output + ' ' + word\n",
        "lst.append(output) \n",
        "print(lst)"
      ],
      "execution_count": 56,
      "outputs": [
        {
          "output_type": "stream",
          "text": [
            "['This', 'is', ' Python class']\n"
          ],
          "name": "stdout"
        }
      ]
    }
  ]
}